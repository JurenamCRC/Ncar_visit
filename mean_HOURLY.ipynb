{
 "cells": [
  {
   "cell_type": "code",
   "execution_count": 1,
   "id": "a69bf957-2ad6-4573-93ee-c8f3ac09ba1b",
   "metadata": {},
   "outputs": [],
   "source": [
    "import netCDF4 as nc\n",
    "import numpy as np\n",
    "import time as tm\n",
    "from datetime import datetime\n"
   ]
  },
  {
   "cell_type": "code",
   "execution_count": 32,
   "id": "c0ab4a69-080b-4dd3-9833-417525a2b5e9",
   "metadata": {},
   "outputs": [
    {
     "name": "stdout",
     "output_type": "stream",
     "text": [
      "year 1993\n",
      "Processing file /glade/campaign/cgd/oce/people/bachman/ETP_1_20_tides/HOURLY/ocean_hourly__1993_001.nc\n",
      "Processing file /glade/campaign/cgd/oce/people/bachman/ETP_1_20_tides/HOURLY/ocean_hourly__1993_002.nc\n"
     ]
    }
   ],
   "source": [
    "#startTime1 = tm.time()\n",
    "taux_mean = np.array([])\n",
    "tauy_mean = np.array([])\n",
    "tau_mean = np.array([])\n",
    "sal_mean = np.array([])\n",
    "for a in range(1993,1994):\n",
    "    anio = str(a)\n",
    "    print(\"year\",a)\n",
    "    for d in range(1,3):\n",
    "        if d<10:\n",
    "            day='00'+str(d)    \n",
    "        elif d <100:\n",
    "             day='0'+str(d)\n",
    "        else:\n",
    "            day = str(d)\n",
    "        startTime2 = tm.time()\n",
    "        data=nc.Dataset(\"/glade/campaign/cgd/oce/people/bachman/ETP_1_20_tides/HOURLY/ocean_hourly__\"+anio+\"_\"+day+\".nc\")\n",
    "        print(\"Processing file /glade/campaign/cgd/oce/people/bachman/ETP_1_20_tides/HOURLY/ocean_hourly__\"+anio+\"_\"+day+\".nc\")\n",
    "        \n",
    "        lon = np.array(data.variables[\"xh\"][:],dtype=np.float64)\n",
    "        lat = np.array(data.variables[\"yh\"][:],dtype=np.float64)\n",
    "        time= np.array(data.variables[\"time\"][:],dtype=np.float64)\n",
    "        taux= np.array(data.variables[\"taux\"][:,:,:],dtype=np.float64)\n",
    "        tauy= np.array(data.variables[\"tauy\"][:,:,:],dtype=np.float64)\n",
    "        tau = np.array(data.variables[\"wind_stress_curl\"][:,:,:],dtype=np.float64)\n",
    "        sal = np.array(data.variables[\"sss\"][:,:,:],dtype=np.float64)\n",
    "        data.close()\n",
    "        \n",
    "\n",
    "        \n",
    "#        lon = np.array(data.variables[\"xh\"][521:820],dtype=np.float64)\n",
    "#        lat = np.array(data.variables[\"yh\"][450:550],dtype=np.float64)\n",
    "#        time= np.array(data.variables[\"time\"][:],dtype=np.float64)\n",
    "#        taux= np.array(data.variables[\"taux\"][:,450:550,521:821],dtype=np.float64)\n",
    "#        taux= np.mean(taux, axis=0)\n",
    "#        tauy= np.array(data.variables[\"tauy\"][:,450:551,521:820],dtype=np.float64)\n",
    "#        tauy= np.mean(tauy, axis=0)\n",
    "        \n",
    "        \n",
    "        taux= np.mean(taux, axis=0)\n",
    "        tauy= np.mean(tauy, axis=0)\n",
    "        tau= np.mean(tau, axis=0)\n",
    "        sal= np.mean(sal, axis=0)\n",
    "                \n",
    "        if ((a ==1993) and (d == 1)):\n",
    "#            tauy = np.sqrt(np.power(0.5*(taux[:,0:-1]+taux[:,1:]),2) , np.power(0.5*(tauy[0:-1,:]+tauy[1:,:]),2))\n",
    "            tauxf = taux\n",
    "            tauyf = tauy\n",
    "            tauf = tau\n",
    "            salf = sal\n",
    "        else:\n",
    "            tauxf = np.dstack((tauxf,taux))\n",
    "            tauyf = np.dstack((tauyf,tauy))\n",
    "            tauf = np.dstack((tauf,tau))\n",
    "            salf = np.dstack((salf,sal))\n",
    "            \n",
    "#            tauf = np.append(tauf,tau)\n",
    "#            tau1=np.sqrt(np.power(0.5*(taux[:,0:-1]+taux[:,1:]),2) , np.power(0.5*(tauy[0:-1,:]+tauy[1:,:]),2))\n",
    "            \n",
    "            \n",
    "            taux_mean=np.mean(tauxf, axis=2)\n",
    "            tauy_mean=np.mean(tauyf, axis=2)\n",
    "            tau_mean=np.mean(tauf, axis=2)\n",
    "            sal_mean=np.mean(salf, axis=2)\n",
    "        \n",
    "        \n",
    "        \n",
    "        np.save(\"/glade/scratch/pmora/tau_mean.npy\", [lon,lat,taux_mean,tauy_mean,tau_mean,sal_mean]) \n",
    " #       executionTime = (tm.time() - startTime2)\n",
    "#        print('Execution time in seconds: ' + str(executionTime))\n",
    "with open('/glade/scratch/pmora/log.txt', 'w') as outfile:\n",
    "    outfile.write('Data collected on:' +str(datetime.now()))       "
   ]
  },
  {
   "cell_type": "code",
   "execution_count": 26,
   "id": "1de751da-bd48-4dc7-8ffb-3d83c79ce66a",
   "metadata": {},
   "outputs": [
    {
     "data": {
      "text/plain": [
       "datetime.datetime(2022, 8, 30, 16, 4, 13, 541622)"
      ]
     },
     "execution_count": 26,
     "metadata": {},
     "output_type": "execute_result"
    }
   ],
   "source": [
    "from datetime import datetime\n",
    "\n",
    "datetime.now()"
   ]
  },
  {
   "cell_type": "code",
   "execution_count": 13,
   "id": "1d3569a0-50f9-485f-bc97-c2e2d8390bf1",
   "metadata": {},
   "outputs": [],
   "source": [
    "#np.shape(taux_mean)\n",
    "#np.shape(tauy_mean)\n",
    "#np.shape(tau_mean)\n",
    "#np.shape(sal_mean)"
   ]
  },
  {
   "cell_type": "code",
   "execution_count": null,
   "id": "746b82ef-23b1-4175-b0c3-8a91f2ee1098",
   "metadata": {},
   "outputs": [],
   "source": [
    "        \n",
    "        \n",
    "        \n",
    "        \n",
    "        data.close()"
   ]
  },
  {
   "cell_type": "code",
   "execution_count": 35,
   "id": "adb008a6-cdce-47b3-992e-31bc0dab1468",
   "metadata": {},
   "outputs": [
    {
     "data": {
      "text/plain": [
       "array([[-1.76248541e-08, -7.08419673e-08, -1.61767066e-08, ...,\n",
       "         1.85998360e-04,  1.85998360e-04,  1.85998360e-04],\n",
       "       [ 1.20040965e-08, -8.37175096e-08, -1.01096402e-07, ...,\n",
       "         1.85954952e-04,  1.85954952e-04,  1.85954952e-04],\n",
       "       [ 1.72229803e-08,  9.66055598e-09, -4.02745268e-08, ...,\n",
       "         1.85911704e-04,  1.85911704e-04,  1.85911704e-04],\n",
       "       ...,\n",
       "       [-1.59022711e-08, -3.06910331e-08, -2.40640037e-08, ...,\n",
       "         2.07141828e-04,  2.07141828e-04,  2.07141828e-04],\n",
       "       [-2.29521048e-08, -7.38905404e-08, -6.32913455e-08, ...,\n",
       "         2.07245699e-04,  2.07245699e-04,  2.07245699e-04],\n",
       "       [-1.02363565e-08, -3.68801757e-08, -3.26831221e-08, ...,\n",
       "         2.07349818e-04,  2.07349818e-04,  2.07349818e-04]])"
      ]
     },
     "execution_count": 35,
     "metadata": {},
     "output_type": "execute_result"
    }
   ],
   "source": [
    "tauf[:,:,2]\n"
   ]
  },
  {
   "cell_type": "code",
   "execution_count": 36,
   "id": "d80aa537-457b-4c71-9bd0-3a2e27d55d74",
   "metadata": {},
   "outputs": [
    {
     "data": {
      "text/plain": [
       "array([[-1.76248541e-08, -7.08419673e-08, -1.61767066e-08, ...,\n",
       "         1.85998360e-04,  1.85998360e-04,  1.85998360e-04],\n",
       "       [ 1.20040965e-08, -8.37175096e-08, -1.01096402e-07, ...,\n",
       "         1.85954952e-04,  1.85954952e-04,  1.85954952e-04],\n",
       "       [ 1.72229803e-08,  9.66055598e-09, -4.02745268e-08, ...,\n",
       "         1.85911704e-04,  1.85911704e-04,  1.85911704e-04],\n",
       "       ...,\n",
       "       [-1.59022711e-08, -3.06910331e-08, -2.40640037e-08, ...,\n",
       "         2.07141828e-04,  2.07141828e-04,  2.07141828e-04],\n",
       "       [-2.29521048e-08, -7.38905404e-08, -6.32913455e-08, ...,\n",
       "         2.07245699e-04,  2.07245699e-04,  2.07245699e-04],\n",
       "       [-1.02363565e-08, -3.68801757e-08, -3.26831221e-08, ...,\n",
       "         2.07349818e-04,  2.07349818e-04,  2.07349818e-04]])"
      ]
     },
     "execution_count": 36,
     "metadata": {},
     "output_type": "execute_result"
    }
   ],
   "source": [
    "tau"
   ]
  },
  {
   "cell_type": "code",
   "execution_count": 2,
   "id": "ab56a18f-ffb8-475d-bf19-df314f8a2c95",
   "metadata": {},
   "outputs": [],
   "source": [
    "test= np.append([[1, 2, 3], [4, 5, 6]], [[7, 8, 9]], axis=0)"
   ]
  },
  {
   "cell_type": "code",
   "execution_count": 3,
   "id": "cea51e00-dea9-4a23-9593-1f0a81c34407",
   "metadata": {},
   "outputs": [
    {
     "data": {
      "text/plain": [
       "(3, 3)"
      ]
     },
     "execution_count": 3,
     "metadata": {},
     "output_type": "execute_result"
    }
   ],
   "source": [
    "np.shape(test)"
   ]
  },
  {
   "cell_type": "code",
   "execution_count": 16,
   "id": "5a0e5a28-7dfd-4ad7-b0e7-c812cd3ffb26",
   "metadata": {},
   "outputs": [
    {
     "data": {
      "text/plain": [
       "(24, 900, 1000)"
      ]
     },
     "execution_count": 16,
     "metadata": {},
     "output_type": "execute_result"
    }
   ],
   "source": [
    "data=nc.Dataset(\"/glade/campaign/cgd/oce/people/bachman/ETP_1_20_tides/HOURLY/ocean_hourly__1993_012.nc\")\n",
    "tau = np.array(data.variables[\"wind_stress_curl\"][:,:,:],dtype=np.float64)\n",
    "np.shape(tau)"
   ]
  },
  {
   "cell_type": "code",
   "execution_count": 17,
   "id": "302b54f6-fd0c-43cb-a197-ca3d023ed678",
   "metadata": {},
   "outputs": [],
   "source": [
    "tau= np.mean(tau, axis=0)"
   ]
  },
  {
   "cell_type": "code",
   "execution_count": null,
   "id": "5ccaf493-47f9-4377-b34e-2eb1242692b9",
   "metadata": {},
   "outputs": [],
   "source": []
  }
 ],
 "metadata": {
  "kernelspec": {
   "display_name": "Python [conda env:.conda-etpac]",
   "language": "python",
   "name": "conda-env-.conda-etpac-py"
  },
  "language_info": {
   "codemirror_mode": {
    "name": "ipython",
    "version": 3
   },
   "file_extension": ".py",
   "mimetype": "text/x-python",
   "name": "python",
   "nbconvert_exporter": "python",
   "pygments_lexer": "ipython3",
   "version": "3.9.4"
  }
 },
 "nbformat": 4,
 "nbformat_minor": 5
}
