{
 "cells": [
  {
   "cell_type": "code",
   "execution_count": 22,
   "id": "ca142c09-dcdf-4691-b2a1-e45cb477bc09",
   "metadata": {},
   "outputs": [],
   "source": [
    "import numpy as np\n",
    "[lon,lat,tau_norm]= np.load(\"/glade/scratch/pmora/tau_mean_1993-1993.npy\", allow_pickle=True);"
   ]
  },
  {
   "cell_type": "code",
   "execution_count": 25,
   "id": "27bc3a3a-e0a5-4b2a-b05d-13f50f0de6f6",
   "metadata": {},
   "outputs": [
    {
     "data": {
      "text/plain": [
       "(900, 1000)"
      ]
     },
     "execution_count": 25,
     "metadata": {},
     "output_type": "execute_result"
    }
   ],
   "source": [
    "np.shape(tau_norm)\n"
   ]
  },
  {
   "cell_type": "code",
   "execution_count": null,
   "id": "985b8e17-ef05-4c48-9751-e5c961c090a0",
   "metadata": {},
   "outputs": [],
   "source": []
  }
 ],
 "metadata": {
  "kernelspec": {
   "display_name": "Python [conda env:.conda-etpac]",
   "language": "python",
   "name": "conda-env-.conda-etpac-py"
  },
  "language_info": {
   "codemirror_mode": {
    "name": "ipython",
    "version": 3
   },
   "file_extension": ".py",
   "mimetype": "text/x-python",
   "name": "python",
   "nbconvert_exporter": "python",
   "pygments_lexer": "ipython3",
   "version": "3.9.4"
  }
 },
 "nbformat": 4,
 "nbformat_minor": 5
}
